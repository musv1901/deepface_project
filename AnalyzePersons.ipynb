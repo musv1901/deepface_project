{
 "cells": [
  {
   "cell_type": "code",
   "execution_count": 1,
   "id": "072e769c-1774-4711-ad3c-7b0a1ebe97fc",
   "metadata": {
    "tags": []
   },
   "outputs": [
    {
     "name": "stdout",
     "output_type": "stream",
     "text": [
      "Looking in indexes: https://nexus.iisys.de/repository/ki-awz-pypi-group/simple, https://pypi.org/simple\n",
      "Collecting deepface\n",
      "  Using cached deepface-0.0.79-py3-none-any.whl (49 kB)\n",
      "Requirement already satisfied: pandas>=0.23.4 in /opt/conda/lib/python3.10/site-packages (from deepface) (1.5.3)\n",
      "Requirement already satisfied: numpy>=1.14.0 in /opt/conda/lib/python3.10/site-packages (from deepface) (1.23.5)\n",
      "Requirement already satisfied: Pillow>=5.2.0 in /opt/conda/lib/python3.10/site-packages (from deepface) (9.4.0)\n",
      "Collecting Flask>=1.1.2\n",
      "  Using cached Flask-2.3.2-py3-none-any.whl (96 kB)\n",
      "Requirement already satisfied: tensorflow>=1.9.0 in /opt/conda/lib/python3.10/site-packages (from deepface) (2.11.0)\n",
      "Collecting opencv-python>=4.5.5.64\n",
      "  Using cached opencv_python-4.7.0.72-cp37-abi3-manylinux_2_17_x86_64.manylinux2014_x86_64.whl (61.8 MB)\n",
      "Collecting fire>=0.4.0\n",
      "  Using cached fire-0.5.0-py2.py3-none-any.whl\n",
      "Collecting gdown>=3.10.1\n",
      "  Using cached gdown-4.7.1-py3-none-any.whl (15 kB)\n",
      "Collecting retina-face>=0.0.1\n",
      "  Using cached retina_face-0.0.13-py3-none-any.whl (16 kB)\n",
      "Collecting mtcnn>=0.1.0\n",
      "  Using cached mtcnn-0.1.1-py3-none-any.whl (2.3 MB)\n",
      "Requirement already satisfied: keras>=2.2.0 in /opt/conda/lib/python3.10/site-packages (from deepface) (2.11.0)\n",
      "Collecting gunicorn>=20.1.0\n",
      "  Using cached gunicorn-20.1.0-py3-none-any.whl (79 kB)\n",
      "Requirement already satisfied: tqdm>=4.30.0 in /opt/conda/lib/python3.10/site-packages (from deepface) (4.65.0)\n",
      "Requirement already satisfied: termcolor in /opt/conda/lib/python3.10/site-packages (from fire>=0.4.0->deepface) (2.2.0)\n",
      "Requirement already satisfied: six in /opt/conda/lib/python3.10/site-packages (from fire>=0.4.0->deepface) (1.16.0)\n",
      "Collecting blinker>=1.6.2\n",
      "  Using cached blinker-1.6.2-py3-none-any.whl (13 kB)\n",
      "Requirement already satisfied: click>=8.1.3 in /opt/conda/lib/python3.10/site-packages (from Flask>=1.1.2->deepface) (8.1.3)\n",
      "Collecting itsdangerous>=2.1.2\n",
      "  Using cached itsdangerous-2.1.2-py3-none-any.whl (15 kB)\n",
      "Requirement already satisfied: Jinja2>=3.1.2 in /opt/conda/lib/python3.10/site-packages (from Flask>=1.1.2->deepface) (3.1.2)\n",
      "Collecting Werkzeug>=2.3.3\n",
      "  Using cached Werkzeug-2.3.4-py3-none-any.whl (242 kB)\n",
      "Collecting filelock\n",
      "  Using cached filelock-3.12.0-py3-none-any.whl (10 kB)\n",
      "Requirement already satisfied: beautifulsoup4 in /opt/conda/lib/python3.10/site-packages (from gdown>=3.10.1->deepface) (4.11.2)\n",
      "Requirement already satisfied: requests[socks] in /opt/conda/lib/python3.10/site-packages (from gdown>=3.10.1->deepface) (2.28.2)\n",
      "Requirement already satisfied: setuptools>=3.0 in /opt/conda/lib/python3.10/site-packages (from gunicorn>=20.1.0->deepface) (67.5.1)\n",
      "Requirement already satisfied: python-dateutil>=2.8.1 in /opt/conda/lib/python3.10/site-packages (from pandas>=0.23.4->deepface) (2.8.2)\n",
      "Requirement already satisfied: pytz>=2020.1 in /opt/conda/lib/python3.10/site-packages (from pandas>=0.23.4->deepface) (2022.7.1)\n",
      "Requirement already satisfied: wrapt>=1.11.0 in /opt/conda/lib/python3.10/site-packages (from tensorflow>=1.9.0->deepface) (1.15.0)\n",
      "Requirement already satisfied: grpcio<2.0,>=1.24.3 in /opt/conda/lib/python3.10/site-packages (from tensorflow>=1.9.0->deepface) (1.51.1)\n",
      "Requirement already satisfied: packaging in /opt/conda/lib/python3.10/site-packages (from tensorflow>=1.9.0->deepface) (23.0)\n",
      "Requirement already satisfied: opt-einsum>=2.3.2 in /opt/conda/lib/python3.10/site-packages (from tensorflow>=1.9.0->deepface) (3.3.0)\n",
      "Requirement already satisfied: tensorflow-estimator<2.12,>=2.11.0 in /opt/conda/lib/python3.10/site-packages (from tensorflow>=1.9.0->deepface) (2.11.0)\n",
      "Requirement already satisfied: absl-py>=1.0.0 in /opt/conda/lib/python3.10/site-packages (from tensorflow>=1.9.0->deepface) (1.4.0)\n",
      "Requirement already satisfied: typing-extensions>=3.6.6 in /opt/conda/lib/python3.10/site-packages (from tensorflow>=1.9.0->deepface) (4.4.0)\n",
      "Requirement already satisfied: h5py>=2.9.0 in /opt/conda/lib/python3.10/site-packages (from tensorflow>=1.9.0->deepface) (3.8.0)\n",
      "Requirement already satisfied: tensorboard<2.12,>=2.11 in /opt/conda/lib/python3.10/site-packages (from tensorflow>=1.9.0->deepface) (2.11.2)\n",
      "Requirement already satisfied: astunparse>=1.6.0 in /opt/conda/lib/python3.10/site-packages (from tensorflow>=1.9.0->deepface) (1.6.3)\n",
      "Requirement already satisfied: flatbuffers>=2.0 in /opt/conda/lib/python3.10/site-packages (from tensorflow>=1.9.0->deepface) (23.1.21)\n",
      "Requirement already satisfied: google-pasta>=0.1.1 in /opt/conda/lib/python3.10/site-packages (from tensorflow>=1.9.0->deepface) (0.2.0)\n",
      "Requirement already satisfied: gast<=0.4.0,>=0.2.1 in /opt/conda/lib/python3.10/site-packages (from tensorflow>=1.9.0->deepface) (0.4.0)\n",
      "Requirement already satisfied: protobuf>=3.9.2 in /opt/conda/lib/python3.10/site-packages (from tensorflow>=1.9.0->deepface) (4.21.12)\n",
      "Requirement already satisfied: wheel<1.0,>=0.23.0 in /opt/conda/lib/python3.10/site-packages (from astunparse>=1.6.0->tensorflow>=1.9.0->deepface) (0.38.4)\n",
      "Requirement already satisfied: MarkupSafe>=2.0 in /opt/conda/lib/python3.10/site-packages (from Jinja2>=3.1.2->Flask>=1.1.2->deepface) (2.1.2)\n",
      "Requirement already satisfied: markdown>=2.6.8 in /opt/conda/lib/python3.10/site-packages (from tensorboard<2.12,>=2.11->tensorflow>=1.9.0->deepface) (3.4.1)\n",
      "Requirement already satisfied: google-auth-oauthlib<0.5,>=0.4.1 in /opt/conda/lib/python3.10/site-packages (from tensorboard<2.12,>=2.11->tensorflow>=1.9.0->deepface) (0.4.6)\n",
      "Requirement already satisfied: tensorboard-data-server<0.7.0,>=0.6.0 in /opt/conda/lib/python3.10/site-packages (from tensorboard<2.12,>=2.11->tensorflow>=1.9.0->deepface) (0.6.1)\n",
      "Requirement already satisfied: google-auth<3,>=1.6.3 in /opt/conda/lib/python3.10/site-packages (from tensorboard<2.12,>=2.11->tensorflow>=1.9.0->deepface) (2.16.2)\n",
      "Requirement already satisfied: tensorboard-plugin-wit>=1.6.0 in /opt/conda/lib/python3.10/site-packages (from tensorboard<2.12,>=2.11->tensorflow>=1.9.0->deepface) (1.8.1)\n",
      "Requirement already satisfied: soupsieve>1.2 in /opt/conda/lib/python3.10/site-packages (from beautifulsoup4->gdown>=3.10.1->deepface) (2.3.2.post1)\n",
      "Requirement already satisfied: certifi>=2017.4.17 in /opt/conda/lib/python3.10/site-packages (from requests[socks]->gdown>=3.10.1->deepface) (2022.12.7)\n",
      "Requirement already satisfied: idna<4,>=2.5 in /opt/conda/lib/python3.10/site-packages (from requests[socks]->gdown>=3.10.1->deepface) (3.4)\n",
      "Requirement already satisfied: urllib3<1.27,>=1.21.1 in /opt/conda/lib/python3.10/site-packages (from requests[socks]->gdown>=3.10.1->deepface) (1.26.14)\n",
      "Requirement already satisfied: charset-normalizer<4,>=2 in /opt/conda/lib/python3.10/site-packages (from requests[socks]->gdown>=3.10.1->deepface) (2.1.1)\n",
      "Requirement already satisfied: PySocks!=1.5.7,>=1.5.6 in /opt/conda/lib/python3.10/site-packages (from requests[socks]->gdown>=3.10.1->deepface) (1.7.1)\n",
      "Requirement already satisfied: rsa<5,>=3.1.4 in /opt/conda/lib/python3.10/site-packages (from google-auth<3,>=1.6.3->tensorboard<2.12,>=2.11->tensorflow>=1.9.0->deepface) (4.9)\n",
      "Requirement already satisfied: pyasn1-modules>=0.2.1 in /opt/conda/lib/python3.10/site-packages (from google-auth<3,>=1.6.3->tensorboard<2.12,>=2.11->tensorflow>=1.9.0->deepface) (0.2.7)\n",
      "Requirement already satisfied: cachetools<6.0,>=2.0.0 in /opt/conda/lib/python3.10/site-packages (from google-auth<3,>=1.6.3->tensorboard<2.12,>=2.11->tensorflow>=1.9.0->deepface) (5.3.0)\n",
      "Requirement already satisfied: requests-oauthlib>=0.7.0 in /opt/conda/lib/python3.10/site-packages (from google-auth-oauthlib<0.5,>=0.4.1->tensorboard<2.12,>=2.11->tensorflow>=1.9.0->deepface) (1.3.1)\n",
      "Requirement already satisfied: pyasn1<0.5.0,>=0.4.6 in /opt/conda/lib/python3.10/site-packages (from pyasn1-modules>=0.2.1->google-auth<3,>=1.6.3->tensorboard<2.12,>=2.11->tensorflow>=1.9.0->deepface) (0.4.8)\n",
      "Requirement already satisfied: oauthlib>=3.0.0 in /opt/conda/lib/python3.10/site-packages (from requests-oauthlib>=0.7.0->google-auth-oauthlib<0.5,>=0.4.1->tensorboard<2.12,>=2.11->tensorflow>=1.9.0->deepface) (3.2.2)\n",
      "Installing collected packages: Werkzeug, opencv-python, itsdangerous, gunicorn, fire, filelock, blinker, mtcnn, Flask, gdown, retina-face, deepface\n",
      "  Attempting uninstall: Werkzeug\n",
      "    Found existing installation: Werkzeug 2.2.3\n",
      "    Uninstalling Werkzeug-2.2.3:\n",
      "      Successfully uninstalled Werkzeug-2.2.3\n",
      "  Attempting uninstall: blinker\n",
      "    Found existing installation: blinker 1.5\n",
      "    Uninstalling blinker-1.5:\n",
      "      Successfully uninstalled blinker-1.5\n",
      "Successfully installed Flask-2.3.2 Werkzeug-2.3.4 blinker-1.6.2 deepface-0.0.79 filelock-3.12.0 fire-0.5.0 gdown-4.7.1 gunicorn-20.1.0 itsdangerous-2.1.2 mtcnn-0.1.1 opencv-python-4.7.0.72 retina-face-0.0.13\n",
      "Note: you may need to restart the kernel to use updated packages.\n"
     ]
    }
   ],
   "source": [
    "pip install deepface"
   ]
  },
  {
   "cell_type": "code",
   "execution_count": 2,
   "id": "cff82516-e060-45d6-9cb1-dd1bfd6ffec4",
   "metadata": {
    "tags": []
   },
   "outputs": [
    {
     "name": "stdout",
     "output_type": "stream",
     "text": [
      "Looking in indexes: https://nexus.iisys.de/repository/ki-awz-pypi-group/simple, https://pypi.org/simple\n",
      "Collecting opencv-contrib-python\n",
      "  Using cached opencv_contrib_python-4.7.0.72-cp37-abi3-manylinux_2_17_x86_64.manylinux2014_x86_64.whl (67.9 MB)\n",
      "Requirement already satisfied: numpy>=1.17.3 in /opt/conda/lib/python3.10/site-packages (from opencv-contrib-python) (1.23.5)\n",
      "Installing collected packages: opencv-contrib-python\n",
      "Successfully installed opencv-contrib-python-4.7.0.72\n",
      "Note: you may need to restart the kernel to use updated packages.\n"
     ]
    }
   ],
   "source": [
    "pip install opencv-contrib-python"
   ]
  },
  {
   "cell_type": "code",
   "execution_count": 3,
   "id": "0acb5c63-8527-4921-954c-6f254e2673ec",
   "metadata": {},
   "outputs": [
    {
     "name": "stdout",
     "output_type": "stream",
     "text": [
      "Looking in indexes: https://nexus.iisys.de/repository/ki-awz-pypi-group/simple, https://pypi.org/simple\n",
      "Collecting image2base64\n",
      "  Using cached image2base64-0.0.5-py3-none-any.whl\n",
      "Installing collected packages: image2base64\n",
      "Successfully installed image2base64-0.0.5\n",
      "Note: you may need to restart the kernel to use updated packages.\n"
     ]
    }
   ],
   "source": [
    "pip install image2base64"
   ]
  },
  {
   "cell_type": "code",
   "execution_count": 4,
   "id": "329383f3-3694-46a5-bdff-d26289f84b41",
   "metadata": {
    "tags": []
   },
   "outputs": [
    {
     "name": "stdout",
     "output_type": "stream",
     "text": [
      "Looking in indexes: https://nexus.iisys.de/repository/ki-awz-pypi-group/simple, https://pypi.org/simple\n",
      "Requirement already satisfied: tensorflow in /opt/conda/lib/python3.10/site-packages (2.11.0)\n",
      "Requirement already satisfied: wrapt>=1.11.0 in /opt/conda/lib/python3.10/site-packages (from tensorflow) (1.15.0)\n",
      "Requirement already satisfied: termcolor>=1.1.0 in /opt/conda/lib/python3.10/site-packages (from tensorflow) (2.2.0)\n",
      "Requirement already satisfied: protobuf>=3.9.2 in /opt/conda/lib/python3.10/site-packages (from tensorflow) (4.21.12)\n",
      "Requirement already satisfied: opt-einsum>=2.3.2 in /opt/conda/lib/python3.10/site-packages (from tensorflow) (3.3.0)\n",
      "Requirement already satisfied: astunparse>=1.6.0 in /opt/conda/lib/python3.10/site-packages (from tensorflow) (1.6.3)\n",
      "Requirement already satisfied: setuptools in /opt/conda/lib/python3.10/site-packages (from tensorflow) (67.5.1)\n",
      "Requirement already satisfied: absl-py>=1.0.0 in /opt/conda/lib/python3.10/site-packages (from tensorflow) (1.4.0)\n",
      "Requirement already satisfied: keras<2.12,>=2.11.0 in /opt/conda/lib/python3.10/site-packages (from tensorflow) (2.11.0)\n",
      "Requirement already satisfied: six>=1.12.0 in /opt/conda/lib/python3.10/site-packages (from tensorflow) (1.16.0)\n",
      "Requirement already satisfied: grpcio<2.0,>=1.24.3 in /opt/conda/lib/python3.10/site-packages (from tensorflow) (1.51.1)\n",
      "Requirement already satisfied: tensorflow-estimator<2.12,>=2.11.0 in /opt/conda/lib/python3.10/site-packages (from tensorflow) (2.11.0)\n",
      "Requirement already satisfied: typing-extensions>=3.6.6 in /opt/conda/lib/python3.10/site-packages (from tensorflow) (4.4.0)\n",
      "Requirement already satisfied: flatbuffers>=2.0 in /opt/conda/lib/python3.10/site-packages (from tensorflow) (23.1.21)\n",
      "Requirement already satisfied: h5py>=2.9.0 in /opt/conda/lib/python3.10/site-packages (from tensorflow) (3.8.0)\n",
      "Requirement already satisfied: numpy>=1.20 in /opt/conda/lib/python3.10/site-packages (from tensorflow) (1.23.5)\n",
      "Requirement already satisfied: gast<=0.4.0,>=0.2.1 in /opt/conda/lib/python3.10/site-packages (from tensorflow) (0.4.0)\n",
      "Requirement already satisfied: google-pasta>=0.1.1 in /opt/conda/lib/python3.10/site-packages (from tensorflow) (0.2.0)\n",
      "Requirement already satisfied: packaging in /opt/conda/lib/python3.10/site-packages (from tensorflow) (23.0)\n",
      "Requirement already satisfied: tensorboard<2.12,>=2.11 in /opt/conda/lib/python3.10/site-packages (from tensorflow) (2.11.2)\n",
      "Requirement already satisfied: wheel<1.0,>=0.23.0 in /opt/conda/lib/python3.10/site-packages (from astunparse>=1.6.0->tensorflow) (0.38.4)\n",
      "Requirement already satisfied: werkzeug>=1.0.1 in /opt/conda/lib/python3.10/site-packages (from tensorboard<2.12,>=2.11->tensorflow) (2.3.4)\n",
      "Requirement already satisfied: tensorboard-data-server<0.7.0,>=0.6.0 in /opt/conda/lib/python3.10/site-packages (from tensorboard<2.12,>=2.11->tensorflow) (0.6.1)\n",
      "Requirement already satisfied: tensorboard-plugin-wit>=1.6.0 in /opt/conda/lib/python3.10/site-packages (from tensorboard<2.12,>=2.11->tensorflow) (1.8.1)\n",
      "Requirement already satisfied: google-auth<3,>=1.6.3 in /opt/conda/lib/python3.10/site-packages (from tensorboard<2.12,>=2.11->tensorflow) (2.16.2)\n",
      "Requirement already satisfied: requests<3,>=2.21.0 in /opt/conda/lib/python3.10/site-packages (from tensorboard<2.12,>=2.11->tensorflow) (2.28.2)\n",
      "Requirement already satisfied: markdown>=2.6.8 in /opt/conda/lib/python3.10/site-packages (from tensorboard<2.12,>=2.11->tensorflow) (3.4.1)\n",
      "Requirement already satisfied: google-auth-oauthlib<0.5,>=0.4.1 in /opt/conda/lib/python3.10/site-packages (from tensorboard<2.12,>=2.11->tensorflow) (0.4.6)\n",
      "Requirement already satisfied: pyasn1-modules>=0.2.1 in /opt/conda/lib/python3.10/site-packages (from google-auth<3,>=1.6.3->tensorboard<2.12,>=2.11->tensorflow) (0.2.7)\n",
      "Requirement already satisfied: cachetools<6.0,>=2.0.0 in /opt/conda/lib/python3.10/site-packages (from google-auth<3,>=1.6.3->tensorboard<2.12,>=2.11->tensorflow) (5.3.0)\n",
      "Requirement already satisfied: rsa<5,>=3.1.4 in /opt/conda/lib/python3.10/site-packages (from google-auth<3,>=1.6.3->tensorboard<2.12,>=2.11->tensorflow) (4.9)\n",
      "Requirement already satisfied: requests-oauthlib>=0.7.0 in /opt/conda/lib/python3.10/site-packages (from google-auth-oauthlib<0.5,>=0.4.1->tensorboard<2.12,>=2.11->tensorflow) (1.3.1)\n",
      "Requirement already satisfied: idna<4,>=2.5 in /opt/conda/lib/python3.10/site-packages (from requests<3,>=2.21.0->tensorboard<2.12,>=2.11->tensorflow) (3.4)\n",
      "Requirement already satisfied: certifi>=2017.4.17 in /opt/conda/lib/python3.10/site-packages (from requests<3,>=2.21.0->tensorboard<2.12,>=2.11->tensorflow) (2022.12.7)\n",
      "Requirement already satisfied: charset-normalizer<4,>=2 in /opt/conda/lib/python3.10/site-packages (from requests<3,>=2.21.0->tensorboard<2.12,>=2.11->tensorflow) (2.1.1)\n",
      "Requirement already satisfied: urllib3<1.27,>=1.21.1 in /opt/conda/lib/python3.10/site-packages (from requests<3,>=2.21.0->tensorboard<2.12,>=2.11->tensorflow) (1.26.14)\n",
      "Requirement already satisfied: MarkupSafe>=2.1.1 in /opt/conda/lib/python3.10/site-packages (from werkzeug>=1.0.1->tensorboard<2.12,>=2.11->tensorflow) (2.1.2)\n",
      "Requirement already satisfied: pyasn1<0.5.0,>=0.4.6 in /opt/conda/lib/python3.10/site-packages (from pyasn1-modules>=0.2.1->google-auth<3,>=1.6.3->tensorboard<2.12,>=2.11->tensorflow) (0.4.8)\n",
      "Requirement already satisfied: oauthlib>=3.0.0 in /opt/conda/lib/python3.10/site-packages (from requests-oauthlib>=0.7.0->google-auth-oauthlib<0.5,>=0.4.1->tensorboard<2.12,>=2.11->tensorflow) (3.2.2)\n",
      "Note: you may need to restart the kernel to use updated packages.\n"
     ]
    }
   ],
   "source": [
    "pip install tensorflow"
   ]
  },
  {
   "cell_type": "code",
   "execution_count": 7,
   "id": "a9a57adb-572d-429d-9032-933fece60ab4",
   "metadata": {
    "tags": []
   },
   "outputs": [],
   "source": [
    "# imports\n",
    "from deepface import DeepFace\n",
    "import os\n",
    "from PIL import Image\n",
    "import numpy as np\n",
    "import cv2\n",
    "from matplotlib import pyplot as plt\n",
    "import uuid\n",
    "import pandas as pd\n",
    "from image2base64.converters import base64_to_rgb, rgb2base64\n",
    "import json\n",
    "import traceback\n",
    "import re\n",
    "import time\n",
    "import requests"
   ]
  },
  {
   "cell_type": "code",
   "execution_count": 33,
   "id": "11f72555-4fd9-43dc-a31b-59cedb442eb3",
   "metadata": {},
   "outputs": [],
   "source": [
    "# models\n",
    "path = r\"models/EDSR_x2.pb\"\n",
    "sr = cv2.dnn_superres.DnnSuperResImpl_create()\n",
    "sr.readModel(path)\n",
    "sr.setModel(\"edsr\", 2)\n",
    "\n",
    "# directories\n",
    "dir = r\"pictures\"\n",
    "json_path = r\"json/persons.json\"\n",
    "db_path = r\"stored_faces_db\"\n",
    "\n",
    "# Image resizing options\n",
    "crop_increase_percent = 25\n",
    "standard_height = 155\n",
    "standard_width = 120\n",
    "\n",
    "uuid_regex = r'([\\da-f]{8}-[\\da-f]{4}-[\\da-f]{4}-[\\da-f]{4}-[\\da-f]{12})'\n",
    "\n",
    "# db api\n",
    "URL_TABLE = \"https://gc7da7be5da2e70-g833jueqvvi5nhsa.adb.eu-frankfurt-1.oraclecloudapps.com/ords/admin/persons/\"\n",
    "URL_MODULE = \"https://gc7da7be5da2e70-g833jueqvvi5nhsa.adb.eu-frankfurt-1.oraclecloudapps.com/ords/admin/operations/\""
   ]
  },
  {
   "cell_type": "code",
   "execution_count": 16,
   "id": "f87ad67f-8cf5-4f62-9a15-dd2c7baf1d03",
   "metadata": {
    "tags": []
   },
   "outputs": [],
   "source": [
    "def add_face_to_json(face_dict, cropped_cv2):\n",
    "    new_id = uuid.uuid4()\n",
    "    cv2.imwrite(r\"stored_faces_db/\" + str(new_id) + \".jpg\", cropped_cv2)\n",
    "    \n",
    "    upscale_img = upscale(cropped_cv2)\n",
    "    \n",
    "    data = {\n",
    "        \"id\": str(new_id),\n",
    "        \"cropped_img\": rgb2base64(upscale_img),\n",
    "        \"age\": face_dict[\"age\"],\n",
    "        \"gender\": face_dict[\"dominant_gender\"],\n",
    "        \"emotion\": face_dict[\"dominant_emotion\"],\n",
    "        \"first_name\": \"\",\n",
    "        \"last_name\": \"\",\n",
    "        \"is_present\": \"True\",\n",
    "    }\n",
    "    \n",
    "    headers = {'Content-type': 'application/json', 'Accept': 'text/plain'}\n",
    "    response = requests.post(URL_TABLE, data=json.dumps(data), headers=headers)\n",
    "    \n",
    "    print(\"Added new face to oracle db\")"
   ]
  },
  {
   "cell_type": "code",
   "execution_count": 1,
   "id": "306615fb-c3d5-4883-8ad6-6e8f5573e73d",
   "metadata": {
    "tags": []
   },
   "outputs": [],
   "source": [
    "def refresh_face_in_json(face_dict, id, cropped_cv2):\n",
    "    upscale_img = upscale(cropped_cv2)\n",
    "    \n",
    "    payload = {\n",
    "        \"in_id\": id,\n",
    "        \"in_cropped_img\": rgb2base64(upscale_img),\n",
    "        \"in_age\": face_dict[\"age\"], \n",
    "        \"in_gender\": face_dict[\"dominant_gender\"], \n",
    "        \"in_emotion\": face_dict[\"dominant_emotion\"]\n",
    "    }\n",
    "    \n",
    "    headers = {'Content-type': 'application/json'}\n",
    "    response = requests.post(URL_MODULE + \"refresh_person\", json.dumps(payload), headers=headers)\n",
    "    print(response.status_code)\n",
    "    \n",
    "    print(\"Refresh face in oracle db\")"
   ]
  },
  {
   "cell_type": "code",
   "execution_count": 10,
   "id": "ed3ad234-4310-4bdb-8cf1-2518956322ce",
   "metadata": {
    "tags": []
   },
   "outputs": [],
   "source": [
    "def upscale(cropped_cv2):\n",
    "    \n",
    "    normalized_size_cropped = cv2.resize(cropped_cv2, (standard_width, standard_height))\n",
    "    sr_upscale_np =  sr.upsample(normalized_size_cropped)     \n",
    "                                         \n",
    "    return Image.fromarray(sr_upscale_np)"
   ]
  },
  {
   "cell_type": "code",
   "execution_count": 34,
   "id": "8a5798eb-227f-4c3b-8b5f-bdd1f23da805",
   "metadata": {
    "tags": []
   },
   "outputs": [
    {
     "name": "stdout",
     "output_type": "stream",
     "text": [
      "200\n"
     ]
    }
   ],
   "source": [
    "def reset_is_present():\n",
    "    response = requests.post(URL_MODULE + \"reset_is_present\")\n",
    "    print(\"Reset is_present\")\n",
    "    print(response.status_code)"
   ]
  },
  {
   "cell_type": "code",
   "execution_count": 17,
   "id": "dba23263-7e85-4865-bc8e-8045e57e439d",
   "metadata": {
    "tags": []
   },
   "outputs": [
    {
     "name": "stdout",
     "output_type": "stream",
     "text": [
      "1/1 [==============================] - 0s 490ms/step\n",
      "1/1 [==============================] - 0s 265ms/step\n",
      "1/1 [==============================] - 0s 124ms/step\n",
      "1/1 [==============================] - 0s 70ms/step\n",
      "1/1 [==============================] - 0s 42ms/step\n",
      "1/1 [==============================] - 0s 38ms/step\n",
      "1/1 [==============================] - 0s 24ms/step\n",
      "1/1 [==============================] - 0s 26ms/step\n",
      "1/1 [==============================] - 0s 20ms/step\n",
      "1/1 [==============================] - 0s 14ms/step\n",
      "1/1 [==============================] - 0s 18ms/step\n",
      "1/1 [==============================] - 0s 14ms/step\n",
      "1/1 [==============================] - 0s 13ms/step\n",
      "1/1 [==============================] - 0s 13ms/step\n",
      "1/1 [==============================] - 0s 12ms/step\n",
      "1/1 [==============================] - 0s 14ms/step\n",
      "36/36 [==============================] - 0s 3ms/step\n",
      "2/2 [==============================] - 0s 5ms/step\n",
      "WARNING: Representations for images in stored_faces_db folder were previously stored in representations_vgg_face.pkl. If you added new instances after the creation, then please delete this file and call find function again. It will create it again.\n",
      "There are  1  representations found in  representations_vgg_face.pkl\n",
      "find function lasts  0.5954031944274902  seconds\n",
      "pexels-andrea-piacquadio-3777920.jpg\n",
      "1/1 [==============================] - 0s 22ms/step\n",
      "1/1 [==============================] - 0s 22ms/step\n",
      "1/1 [==============================] - 0s 19ms/step\n",
      "1/1 [==============================] - 0s 18ms/step\n"
     ]
    },
    {
     "name": "stderr",
     "output_type": "stream",
     "text": [
      "Traceback (most recent call last):\n",
      "  File \"/tmp/ipykernel_302/1169572276.py\", line 51, in <module>\n",
      "    refresh_face_in_json(face_dict=face, id=face_id, cropped_cv2=cropped)\n",
      "  File \"/tmp/ipykernel_302/3171347954.py\", line 5, in refresh_face_in_json\n",
      "    edit[\"cropped_face\"] = rgb2base64(upscale_img)\n",
      "TypeError: 'NoneType' object does not support item assignment\n"
     ]
    },
    {
     "name": "stdout",
     "output_type": "stream",
     "text": [
      "1/1 [==============================] - 0s 15ms/step\n",
      "1/1 [==============================] - 0s 13ms/step\n",
      "1/1 [==============================] - 0s 13ms/step\n",
      "1/1 [==============================] - 0s 12ms/step\n",
      "1/1 [==============================] - 0s 12ms/step\n",
      "1/1 [==============================] - 0s 13ms/step\n",
      "17/17 [==============================] - 0s 4ms/step\n",
      "2/2 [==============================] - 0s 4ms/step\n",
      "WARNING: Representations for images in stored_faces_db folder were previously stored in representations_vgg_face.pkl. If you added new instances after the creation, then please delete this file and call find function again. It will create it again.\n",
      "There are  1  representations found in  representations_vgg_face.pkl\n",
      "find function lasts  0.5901691913604736  seconds\n",
      "No such face in DB\n",
      "<Response [201]>\n",
      "Added new face to oracle db\n",
      "WARNING: Representations for images in stored_faces_db folder were previously stored in representations_vgg_face.pkl. If you added new instances after the creation, then please delete this file and call find function again. It will create it again.\n",
      "There are  1  representations found in  representations_vgg_face.pkl\n",
      "find function lasts  0.5405588150024414  seconds\n",
      "No such face in DB\n",
      "<Response [201]>\n",
      "Added new face to oracle db\n",
      "WARNING: Representations for images in stored_faces_db folder were previously stored in representations_vgg_face.pkl. If you added new instances after the creation, then please delete this file and call find function again. It will create it again.\n",
      "There are  1  representations found in  representations_vgg_face.pkl\n",
      "find function lasts  0.5723743438720703  seconds\n",
      "No such face in DB\n",
      "<Response [201]>\n",
      "Added new face to oracle db\n",
      "WARNING: Representations for images in stored_faces_db folder were previously stored in representations_vgg_face.pkl. If you added new instances after the creation, then please delete this file and call find function again. It will create it again.\n",
      "There are  1  representations found in  representations_vgg_face.pkl\n",
      "find function lasts  0.5046391487121582  seconds\n",
      "No such face in DB\n",
      "<Response [201]>\n",
      "Added new face to oracle db\n",
      "WARNING: Representations for images in stored_faces_db folder were previously stored in representations_vgg_face.pkl. If you added new instances after the creation, then please delete this file and call find function again. It will create it again.\n",
      "There are  1  representations found in  representations_vgg_face.pkl\n",
      "find function lasts  0.5991671085357666  seconds\n",
      "No such face in DB\n",
      "<Response [201]>\n",
      "Added new face to oracle db\n",
      "WARNING: Representations for images in stored_faces_db folder were previously stored in representations_vgg_face.pkl. If you added new instances after the creation, then please delete this file and call find function again. It will create it again.\n",
      "There are  1  representations found in  representations_vgg_face.pkl\n",
      "find function lasts  0.534440279006958  seconds\n",
      "No such face in DB\n",
      "<Response [201]>\n",
      "Added new face to oracle db\n",
      "24.67534041404724\n"
     ]
    }
   ],
   "source": [
    "start = time.time()\n",
    "# load persons.json and initialize dict\n",
    "if os.path.getsize(json_path) ==0:\n",
    "    p_dict = {\"persons\": []}\n",
    "else: \n",
    "    with open(\"json/persons.json\", \"r\") as file:\n",
    "        p_dict = json.load(file)\n",
    "\n",
    "for person in p_dict[\"persons\"]:\n",
    "    person[\"is_present\"] = False\n",
    "    \n",
    "# loop       \n",
    "for file in os.listdir(dir):\n",
    "    try:\n",
    "        img = cv2.imread(dir + \"/\" + file)\n",
    "        \n",
    "        if img is None:\n",
    "            continue\n",
    "        \n",
    "        analyze = DeepFace.analyze(img_path=img, actions = ['age', 'gender', 'race', 'emotion'], \n",
    "                                   detector_backend= 'mtcnn', enforce_detection=False, silent=True)\n",
    "\n",
    "        for face in analyze:\n",
    "\n",
    "            x = face['region'].get('x')\n",
    "            y = face['region'].get('y')\n",
    "            w = face['region'].get('w')\n",
    "            h = face['region'].get('h')\n",
    "\n",
    "            w_increase = int(w * crop_increase_percent / 100)\n",
    "            h_increase = int(h * crop_increase_percent / 100)\n",
    "\n",
    "            x_new = x - w_increase // 2\n",
    "            y_new = y - h_increase // 2\n",
    "            w_new = w + w_increase\n",
    "            h_new = h + h_increase\n",
    "            \n",
    "            cropped = cv2.cvtColor(img[y_new:y_new + h_new, x_new:x_new + w_new, :], cv2.COLOR_BGR2RGB)\n",
    "            \n",
    "            # Deepface find\n",
    "            if len(os.listdir(db_path)) <= 1:    \n",
    "                print(\"DB empty\")\n",
    "                add_face_to_json(face, cropped)\n",
    "            else:\n",
    "                list_of_df = DeepFace.find(img_path=cropped, db_path=db_path, detector_backend=\"retinaface\",\n",
    "                                           enforce_detection=False)   \n",
    "                df = list_of_df[0]\n",
    "                if df.shape[0] > 0:\n",
    "                    path_to_dbface = list_of_df[0]['identity'].iloc[0]\n",
    "                    face_id = re.findall(uuid_regex, path_to_dbface)[0]\n",
    "                    refresh_face_in_json(face_dict=face, id=face_id, cropped_cv2=cropped)\n",
    "                else:\n",
    "                    print(\"No such face in DB\")\n",
    "                    add_face_to_json(face_dict=face, cropped_cv2=cropped)\n",
    "                                    \n",
    "    except Exception as e:\n",
    "        print(file)\n",
    "        traceback.print_exc()\n",
    "        continue\n",
    "        \n",
    "with open(r\"json/persons.json\", \"w\") as file:\n",
    "    json.dump(p_dict, file)\n",
    "print(time.time()-start)"
   ]
  },
  {
   "cell_type": "code",
   "execution_count": null,
   "id": "f48d4195-b6ef-4d5e-9989-74df8a1e0535",
   "metadata": {},
   "outputs": [],
   "source": [
    "pip install confluent"
   ]
  },
  {
   "cell_type": "code",
   "execution_count": null,
   "id": "6e28a747-1aa1-4b91-8b6e-030bc779c7de",
   "metadata": {},
   "outputs": [],
   "source": [
    "from confluent_kafka.admin import AdminClient, NewTopic\n",
    "\n",
    "a = AdminClient({'bootstrap.servers': '192.168.70.40:9092'})\n",
    "#new_topics = [NewTopic(topic, num_partitions=1, replication_factor=1) for topic in [\"toAnalyze\", \"toUI\"]]\n",
    "\n",
    "#a.create_topics(new_topics)\n",
    "\n",
    "print(a.list_topics().topics)\n",
    "\n"
   ]
  },
  {
   "cell_type": "code",
   "execution_count": null,
   "id": "c60b95cd-ac31-4f90-95c2-97575496d833",
   "metadata": {},
   "outputs": [],
   "source": []
  }
 ],
 "metadata": {
  "kernelspec": {
   "display_name": "Python 3 (ipykernel)",
   "language": "python",
   "name": "python3"
  },
  "language_info": {
   "codemirror_mode": {
    "name": "ipython",
    "version": 3
   },
   "file_extension": ".py",
   "mimetype": "text/x-python",
   "name": "python",
   "nbconvert_exporter": "python",
   "pygments_lexer": "ipython3",
   "version": "3.10.9"
  }
 },
 "nbformat": 4,
 "nbformat_minor": 5
}
